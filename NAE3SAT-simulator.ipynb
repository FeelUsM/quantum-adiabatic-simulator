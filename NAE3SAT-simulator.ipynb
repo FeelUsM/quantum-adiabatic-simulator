{
 "cells": [
  {
   "cell_type": "code",
   "execution_count": 1,
   "metadata": {
    "ExecuteTime": {
     "end_time": "2019-02-21T07:47:10.394525Z",
     "start_time": "2019-02-21T07:47:06.264289Z"
    }
   },
   "outputs": [],
   "source": [
    "import numpy as np\n",
    "import scipy.sparse as sp\n",
    "import scipy.sparse.linalg"
   ]
  },
  {
   "cell_type": "code",
   "execution_count": 2,
   "metadata": {
    "ExecuteTime": {
     "end_time": "2019-02-21T07:47:10.410526Z",
     "start_time": "2019-02-21T07:47:10.403526Z"
    }
   },
   "outputs": [],
   "source": [
    "spatrix=sp.coo_matrix\n",
    "sp_format='coo'"
   ]
  },
  {
   "cell_type": "code",
   "execution_count": 49,
   "metadata": {
    "ExecuteTime": {
     "end_time": "2019-02-21T09:28:09.725413Z",
     "start_time": "2019-02-21T09:28:09.712412Z"
    }
   },
   "outputs": [],
   "source": [
    "si=spatrix(np.array([[1,0],[0,1]]),dtype=complex)/2\n",
    "sz=spatrix(np.array([[1,0],[0,-1]]),dtype=complex)/2\n",
    "sx=spatrix(np.array([[0,1],[1,0]]),dtype=complex)/2\n",
    "sy=spatrix(np.array([[0,-1j],[1j,0]]),dtype=complex)/2\n"
   ]
  },
  {
   "cell_type": "code",
   "execution_count": 50,
   "metadata": {
    "ExecuteTime": {
     "end_time": "2019-02-21T09:28:10.605463Z",
     "start_time": "2019-02-21T09:28:10.600463Z"
    }
   },
   "outputs": [],
   "source": [
    "def lkron(arr):\n",
    "    acc=arr[0]\n",
    "    for i in range(1,len(arr)):\n",
    "        acc = sp.kron(acc,arr[i],sp_format)\n",
    "    return acc"
   ]
  },
  {
   "cell_type": "code",
   "execution_count": 51,
   "metadata": {
    "ExecuteTime": {
     "end_time": "2019-02-21T09:28:11.504515Z",
     "start_time": "2019-02-21T09:28:11.487514Z"
    }
   },
   "outputs": [],
   "source": [
    "def sign(i):\n",
    "    return +1 if i>0 else -1 if i<0 else 0\n",
    "def NAE3SAT_2_ham(NAE3SAT):\n",
    "    size = max([max([abs(lit) for lit in clause]) for clause in NAE3SAT])\n",
    "    #ham\n",
    "    first = True\n",
    "    for cl in NAE3SAT:\n",
    "        #print(cl)\n",
    "        s1=[si for k in range(size)]\n",
    "        s2=[si for k in range(size)]\n",
    "        s3=[si for k in range(size)]\n",
    "        s4=[si for k in range(size)]\n",
    "        s2[abs(cl[0])-1] = sign(cl[0])*sz\n",
    "        s2[abs(cl[1])-1] = sign(cl[1])*sz\n",
    "        s3[abs(cl[1])-1] = sign(cl[1])*sz\n",
    "        s3[abs(cl[2])-1] = sign(cl[2])*sz\n",
    "        s4[abs(cl[2])-1] = sign(cl[2])*sz\n",
    "        s4[abs(cl[0])-1] = sign(cl[0])*sz\n",
    "        #print(s1)\n",
    "        #print(lkron(s1))\n",
    "        #print(lkron(s1)+lkron(s2))\n",
    "        if first:\n",
    "            ham = (lkron(s1)+lkron(s2)+lkron(s3)+lkron(s4))/4\n",
    "            first = False\n",
    "        else:\n",
    "            ham+= (lkron(s1)+lkron(s2)+lkron(s3)+lkron(s4))/4\n",
    "    return ham"
   ]
  },
  {
   "cell_type": "code",
   "execution_count": 52,
   "metadata": {
    "ExecuteTime": {
     "end_time": "2019-02-21T09:28:13.326619Z",
     "start_time": "2019-02-21T09:28:12.655581Z"
    }
   },
   "outputs": [],
   "source": [
    "h = NAE3SAT_2_ham([\n",
    "    [1, -2, 5],\n",
    "  [3, 4, -5],\n",
    "  [1, 2, 6],\n",
    "  [3, 4, -6],\n",
    "  [1, 2, 7],\n",
    "  [-3, 4, -7],\n",
    "  [1, 2, 8],\n",
    "  [-3, 4, -8],\n",
    "  [1, 2, 9],\n",
    "  [3, 4, -9],\n",
    "  [-1, -2, 10],\n",
    "  [3, 4, -10],\n",
    "  [1, -2, 11],\n",
    "  [3, 4, -11],\n",
    "  [-1, 2, 12],\n",
    "  [-3, 4, -12],\n",
    "  [-1, 2, 13],\n",
    "  [3, 4, -13],\n",
    "  [1, 2, 14],\n",
    "  [3, 4, -14]])"
   ]
  },
  {
   "cell_type": "code",
   "execution_count": 53,
   "metadata": {
    "ExecuteTime": {
     "end_time": "2019-02-21T09:28:13.908652Z",
     "start_time": "2019-02-21T09:28:13.903652Z"
    }
   },
   "outputs": [
    {
     "name": "stdout",
     "output_type": "stream",
     "text": [
      "  (0, 0)\t(0.00030517578125+0j)\n",
      "  (1, 1)\t(0.00030517578125+0j)\n",
      "  (2, 2)\t(0.0003662109375+0j)\n",
      "  (3, 3)\t(0.0003662109375+0j)\n",
      "  (4, 4)\t(0.00030517578125+0j)\n",
      "  (5, 5)\t(0.00030517578125+0j)\n",
      "  (6, 6)\t(0.0003662109375+0j)\n",
      "  (7, 7)\t(0.0003662109375+0j)\n",
      "  (8, 8)\t(0.0003662109375+0j)\n",
      "  (9, 9)\t(0.0003662109375+0j)\n",
      "  (10, 10)\t(0.00042724609375+0j)\n",
      "  (11, 11)\t(0.00042724609375+0j)\n",
      "  (12, 12)\t(0.0003662109375+0j)\n",
      "  (13, 13)\t(0.0003662109375+0j)\n",
      "  (14, 14)\t(0.00042724609375+0j)\n",
      "  (15, 15)\t(0.00042724609375+0j)\n",
      "  (16, 16)\t(0.00042724609375+0j)\n",
      "  (17, 17)\t(0.00042724609375+0j)\n",
      "  (18, 18)\t(0.00048828125+0j)\n",
      "  (19, 19)\t(0.00048828125+0j)\n",
      "  (20, 20)\t(0.00042724609375+0j)\n",
      "  (21, 21)\t(0.00042724609375+0j)\n",
      "  (22, 22)\t(0.00048828125+0j)\n",
      "  (23, 23)\t(0.00048828125+0j)\n",
      "  (24, 24)\t(0.00048828125+0j)\n",
      "  :\t:\n",
      "  (16359, 16359)\t(0.00048828125+0j)\n",
      "  (16360, 16360)\t(0.00048828125+0j)\n",
      "  (16361, 16361)\t(0.00048828125+0j)\n",
      "  (16362, 16362)\t(0.00042724609375+0j)\n",
      "  (16363, 16363)\t(0.00042724609375+0j)\n",
      "  (16364, 16364)\t(0.00048828125+0j)\n",
      "  (16365, 16365)\t(0.00048828125+0j)\n",
      "  (16366, 16366)\t(0.00042724609375+0j)\n",
      "  (16367, 16367)\t(0.00042724609375+0j)\n",
      "  (16368, 16368)\t(0.00042724609375+0j)\n",
      "  (16369, 16369)\t(0.00042724609375+0j)\n",
      "  (16370, 16370)\t(0.0003662109375+0j)\n",
      "  (16371, 16371)\t(0.0003662109375+0j)\n",
      "  (16372, 16372)\t(0.00042724609375+0j)\n",
      "  (16373, 16373)\t(0.00042724609375+0j)\n",
      "  (16374, 16374)\t(0.0003662109375+0j)\n",
      "  (16375, 16375)\t(0.0003662109375+0j)\n",
      "  (16376, 16376)\t(0.0003662109375+0j)\n",
      "  (16377, 16377)\t(0.0003662109375+0j)\n",
      "  (16378, 16378)\t(0.00030517578125+0j)\n",
      "  (16379, 16379)\t(0.00030517578125+0j)\n",
      "  (16380, 16380)\t(0.0003662109375+0j)\n",
      "  (16381, 16381)\t(0.0003662109375+0j)\n",
      "  (16382, 16382)\t(0.00030517578125+0j)\n",
      "  (16383, 16383)\t(0.00030517578125+0j)\n"
     ]
    }
   ],
   "source": [
    "print(h)"
   ]
  },
  {
   "cell_type": "code",
   "execution_count": 54,
   "metadata": {
    "ExecuteTime": {
     "end_time": "2019-02-21T09:28:19.910996Z",
     "start_time": "2019-02-21T09:28:19.703984Z"
    }
   },
   "outputs": [
    {
     "name": "stdout",
     "output_type": "stream",
     "text": [
      "[0.00073242]\n",
      "3072\n",
      "(0.47880463987281985+0.24431572761164594j)\n"
     ]
    }
   ],
   "source": [
    "e,v = sp.linalg.eigsh(h,1)\n",
    "print(e)\n",
    "i=np.abs(v).argmax()\n",
    "print(i)\n",
    "print(v[i,0])"
   ]
  },
  {
   "cell_type": "code",
   "execution_count": null,
   "metadata": {},
   "outputs": [],
   "source": []
  }
 ],
 "metadata": {
  "hide_input": false,
  "kernelspec": {
   "display_name": "Python 3",
   "language": "python",
   "name": "python3"
  },
  "language_info": {
   "codemirror_mode": {
    "name": "ipython",
    "version": 3
   },
   "file_extension": ".py",
   "mimetype": "text/x-python",
   "name": "python",
   "nbconvert_exporter": "python",
   "pygments_lexer": "ipython3",
   "version": "3.6.7"
  },
  "varInspector": {
   "cols": {
    "lenName": 16,
    "lenType": 16,
    "lenVar": 40
   },
   "kernels_config": {
    "python": {
     "delete_cmd_postfix": "",
     "delete_cmd_prefix": "del ",
     "library": "var_list.py",
     "varRefreshCmd": "print(var_dic_list())"
    },
    "r": {
     "delete_cmd_postfix": ") ",
     "delete_cmd_prefix": "rm(",
     "library": "var_list.r",
     "varRefreshCmd": "cat(var_dic_list()) "
    }
   },
   "types_to_exclude": [
    "module",
    "function",
    "builtin_function_or_method",
    "instance",
    "_Feature"
   ],
   "window_display": false
  }
 },
 "nbformat": 4,
 "nbformat_minor": 2
}

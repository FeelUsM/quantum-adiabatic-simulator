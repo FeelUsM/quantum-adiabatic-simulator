{
 "cells": [
  {
   "cell_type": "code",
   "execution_count": 1,
   "metadata": {
    "ExecuteTime": {
     "end_time": "2019-02-21T06:46:37.408710Z",
     "start_time": "2019-02-21T06:46:32.701091Z"
    }
   },
   "outputs": [],
   "source": [
    "import numpy as np\n",
    "import scipy.sparse as sp\n",
    "import scipy.sparse.linalg"
   ]
  },
  {
   "cell_type": "code",
   "execution_count": 8,
   "metadata": {
    "ExecuteTime": {
     "end_time": "2019-02-21T06:53:30.641616Z",
     "start_time": "2019-02-21T06:53:30.629613Z"
    }
   },
   "outputs": [],
   "source": [
    "spatrix=sp.coo_matrix\n",
    "sp_format='coo'"
   ]
  },
  {
   "cell_type": "code",
   "execution_count": 9,
   "metadata": {
    "ExecuteTime": {
     "end_time": "2019-02-21T06:53:31.262744Z",
     "start_time": "2019-02-21T06:53:31.234646Z"
    }
   },
   "outputs": [],
   "source": [
    "si=spatrix(np.array([[1,0],[0,1]]),dtype=complex)\n",
    "sz=spatrix(np.array([[1,0],[0,-1]]),dtype=complex)\n",
    "sx=spatrix(np.array([[0,1],[1,0]]),dtype=complex)\n",
    "sy=spatrix(np.array([[0,-1j],[1j,0]]),dtype=complex)\n"
   ]
  },
  {
   "cell_type": "code",
   "execution_count": 36,
   "metadata": {
    "ExecuteTime": {
     "end_time": "2019-02-21T07:13:28.728913Z",
     "start_time": "2019-02-21T07:13:28.708910Z"
    }
   },
   "outputs": [],
   "source": [
    "def lkron(arr):\n",
    "    acc=arr[0]\n",
    "    for i in range(1,len(arr)):\n",
    "        acc = sp.kron(acc,arr[i],sp_format)\n",
    "    return acc"
   ]
  },
  {
   "cell_type": "code",
   "execution_count": 39,
   "metadata": {
    "ExecuteTime": {
     "end_time": "2019-02-21T07:14:12.538922Z",
     "start_time": "2019-02-21T07:14:12.494922Z"
    }
   },
   "outputs": [],
   "source": [
    "def sign(i):\n",
    "    return +1 if i>0 else -1 if i<0 else 0\n",
    "def NAE3SAT_2_ham(NAE3SAT):\n",
    "    size = max([max([abs(lit) for lit in clause]) for clause in NAE3SAT])\n",
    "    #ham\n",
    "    first = True\n",
    "    for cl in NAE3SAT:\n",
    "        #print(cl)\n",
    "        s1=[si for k in range(size)]\n",
    "        s2=[si for k in range(size)]\n",
    "        s3=[si for k in range(size)]\n",
    "        s4=[si for k in range(size)]\n",
    "        s2[abs(cl[0])-1] = sign(cl[0])*sz\n",
    "        s2[abs(cl[1])-1] = sign(cl[1])*sz\n",
    "        s3[abs(cl[1])-1] = sign(cl[1])*sz\n",
    "        s3[abs(cl[2])-1] = sign(cl[2])*sz\n",
    "        s4[abs(cl[2])-1] = sign(cl[2])*sz\n",
    "        s4[abs(cl[0])-1] = sign(cl[0])*sz\n",
    "        #print(s1)\n",
    "        #print(lkron(s1))\n",
    "        #print(lkron(s1)+lkron(s2))\n",
    "        if first:\n",
    "            ham = lkron(s1)+lkron(s2)+lkron(s3)+lkron(s4)\n",
    "            first = False\n",
    "        else:\n",
    "            ham+= lkron(s1)+lkron(s2)+lkron(s3)+lkron(s4)\n",
    "    return ham"
   ]
  },
  {
   "cell_type": "code",
   "execution_count": 41,
   "metadata": {
    "ExecuteTime": {
     "end_time": "2019-02-21T07:14:23.460782Z",
     "start_time": "2019-02-21T07:14:23.436784Z"
    }
   },
   "outputs": [],
   "source": [
    "h = NAE3SAT_2_ham(\n",
    " [[1, 2, 3],\n",
    "  ])"
   ]
  },
  {
   "cell_type": "code",
   "execution_count": 43,
   "metadata": {
    "ExecuteTime": {
     "end_time": "2019-02-21T07:14:39.897594Z",
     "start_time": "2019-02-21T07:14:39.877589Z"
    }
   },
   "outputs": [
    {
     "name": "stdout",
     "output_type": "stream",
     "text": [
      "  (0, 0)\t(4+0j)\n",
      "  (7, 7)\t(4+0j)\n"
     ]
    }
   ],
   "source": [
    "print(h)"
   ]
  },
  {
   "cell_type": "code",
   "execution_count": null,
   "metadata": {},
   "outputs": [],
   "source": []
  }
 ],
 "metadata": {
  "kernelspec": {
   "display_name": "Python 3",
   "language": "python",
   "name": "python3"
  },
  "language_info": {
   "codemirror_mode": {
    "name": "ipython",
    "version": 3
   },
   "file_extension": ".py",
   "mimetype": "text/x-python",
   "name": "python",
   "nbconvert_exporter": "python",
   "pygments_lexer": "ipython3",
   "version": "3.7.1"
  },
  "varInspector": {
   "cols": {
    "lenName": 16,
    "lenType": 16,
    "lenVar": 40
   },
   "kernels_config": {
    "python": {
     "delete_cmd_postfix": "",
     "delete_cmd_prefix": "del ",
     "library": "var_list.py",
     "varRefreshCmd": "print(var_dic_list())"
    },
    "r": {
     "delete_cmd_postfix": ") ",
     "delete_cmd_prefix": "rm(",
     "library": "var_list.r",
     "varRefreshCmd": "cat(var_dic_list()) "
    }
   },
   "types_to_exclude": [
    "module",
    "function",
    "builtin_function_or_method",
    "instance",
    "_Feature"
   ],
   "window_display": false
  }
 },
 "nbformat": 4,
 "nbformat_minor": 2
}
